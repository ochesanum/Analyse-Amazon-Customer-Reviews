{
 "cells": [
  {
   "cell_type": "code",
   "execution_count": 7,
   "metadata": {},
   "outputs": [],
   "source": [
    "from pyspark.sql import SparkSession\n",
    "from pyspark.sql.functions import col\n",
    "from pyspark.sql.types import *"
   ]
  },
  {
   "cell_type": "code",
   "execution_count": 8,
   "metadata": {},
   "outputs": [],
   "source": [
    "data_path = \"./data/\"\n",
    "review_file_mapping = {\"giftcards\":\"amazon_reviews_us_Gift_Card_v1_00.tsv\"}\n",
    "\n",
    "# Initialize Spark Session\n",
    "spark = SparkSession.builder \\\n",
    "    .appName(\"Analyse Reviews\") \\\n",
    "    .getOrCreate()"
   ]
  },
  {
   "cell_type": "code",
   "execution_count": 9,
   "metadata": {},
   "outputs": [
    {
     "name": "stdout",
     "output_type": "stream",
     "text": [
      "+-------+-----------+--------------------+--------------+----------+--------------------+--------------------+----------------+------------------+-------------------+------------------+--------------------+--------------------+-----------+\n",
      "|summary|marketplace|         customer_id|     review_id|product_id|      product_parent|       product_title|product_category|       star_rating|      helpful_votes|       total_votes|     review_headline|         review_body|review_date|\n",
      "+-------+-----------+--------------------+--------------+----------+--------------------+--------------------+----------------+------------------+-------------------+------------------+--------------------+--------------------+-----------+\n",
      "|  count|     149086|              149086|        149086|    149086|              149086|              149086|          149086|            149086|             149086|            149086|              149086|              149080|     149081|\n",
      "|   mean|       NULL| 2.628253678963149E7|          NULL|      NULL| 5.406851020515139E8|                NULL|            NULL| 4.731363105858364|0.39660330279167727|0.4894490428343372|3.835337059232766...|3.7860952672727275E8|       NULL|\n",
      "| stddev|       NULL|1.5874673170314264E7|          NULL|      NULL|2.6613081670640534E8|                NULL|            NULL|0.8293064689866779|  20.64923133037682|22.766276885000558|9.394618786622647E13|1.2557057010822508E9|       NULL|\n",
      "|    min|         US|            10000104|R10015C83OW4BX|B0002CZPPG|           101082256|    Amazon Allowance|       Gift Card|                 1|                  0|                 0|              \u001a\u001a\u001a\u001a\u001a\u001a|\u001a\u001a\u001a   This card a...| 2004-10-14|\n",
      "|    max|         US|             9999583| RZZYX2X2MBRUL|BT00DDZD6G|           999274173|Graduation Name C...|       Gift Card|                 5|               5987|              6323|                  😋|            😴😴😹😹| 2015-08-31|\n",
      "+-------+-----------+--------------------+--------------+----------+--------------------+--------------------+----------------+------------------+-------------------+------------------+--------------------+--------------------+-----------+\n",
      "\n"
     ]
    }
   ],
   "source": [
    "# Define schema based on the provided file format\n",
    "schema = StructType([\n",
    "    StructField(\"marketplace\", StringType(), True),\n",
    "    StructField(\"customer_id\", StringType(), True),\n",
    "    StructField(\"review_id\", StringType(), True),\n",
    "    StructField(\"product_id\", StringType(), True),\n",
    "    StructField(\"product_parent\", StringType(), True),\n",
    "    StructField(\"product_title\", StringType(), True),\n",
    "    StructField(\"product_category\", StringType(), True),\n",
    "    StructField(\"star_rating\", IntegerType(), True),\n",
    "    StructField(\"helpful_votes\", IntegerType(), True),\n",
    "    StructField(\"total_votes\", IntegerType(), True),\n",
    "    StructField(\"vine\", BooleanType(), True),\n",
    "    StructField(\"verified_purchase\", BooleanType(), True),\n",
    "    StructField(\"review_headline\", StringType(), True),\n",
    "    StructField(\"review_body\", StringType(), True),\n",
    "    StructField(\"review_date\", StringType(), True)\n",
    "])\n",
    "\n",
    "file_path = data_path + review_file_mapping[\"giftcards\"]\n",
    "df = spark.read.csv(file_path, schema=schema, sep=\"\\t\", header=True)\n",
    "df.describe().show()"
   ]
  },
  {
   "cell_type": "code",
   "execution_count": null,
   "metadata": {},
   "outputs": [],
   "source": []
  }
 ],
 "metadata": {
  "kernelspec": {
   "display_name": "Python 3",
   "language": "python",
   "name": "python3"
  },
  "language_info": {
   "codemirror_mode": {
    "name": "ipython",
    "version": 3
   },
   "file_extension": ".py",
   "mimetype": "text/x-python",
   "name": "python",
   "nbconvert_exporter": "python",
   "pygments_lexer": "ipython3",
   "version": "3.10.9"
  }
 },
 "nbformat": 4,
 "nbformat_minor": 2
}
